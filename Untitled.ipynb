{
 "cells": [
  {
   "cell_type": "markdown",
   "id": "50a40538",
   "metadata": {},
   "source": [
    "4.\tWrite a function that will check whether a given year that is passed as a parameter is a leap year and return true or false accordingly`"
   ]
  },
  {
   "cell_type": "markdown",
   "id": "163d302c",
   "metadata": {},
   "source": [
    "The year can be evenly divided by 4, is a leap year, unless:\n",
    "    The year can be evenly divided by 100, it is NOT a leap year, unless:\n",
    "        The year is also evenly divisible by 400. Then it is a leap year.\n"
   ]
  },
  {
   "cell_type": "code",
   "execution_count": 2,
   "id": "6366339a",
   "metadata": {},
   "outputs": [
    {
     "ename": "KeyboardInterrupt",
     "evalue": "Interrupted by user",
     "output_type": "error",
     "traceback": [
      "\u001b[1;31m---------------------------------------------------------------------------\u001b[0m",
      "\u001b[1;31mKeyboardInterrupt\u001b[0m                         Traceback (most recent call last)",
      "\u001b[1;32m~\\AppData\\Local\\Temp/ipykernel_10924/2556497068.py\u001b[0m in \u001b[0;36m<module>\u001b[1;34m\u001b[0m\n\u001b[1;32m----> 1\u001b[1;33m \u001b[0myear\u001b[0m \u001b[1;33m=\u001b[0m \u001b[0mint\u001b[0m\u001b[1;33m(\u001b[0m\u001b[0minput\u001b[0m\u001b[1;33m(\u001b[0m\u001b[1;33m)\u001b[0m\u001b[1;33m)\u001b[0m\u001b[1;33m\u001b[0m\u001b[1;33m\u001b[0m\u001b[0m\n\u001b[0m\u001b[0;32m      2\u001b[0m \u001b[1;33m\u001b[0m\u001b[0m\n\u001b[0;32m      3\u001b[0m \u001b[1;32mdef\u001b[0m \u001b[0mleap_year\u001b[0m\u001b[1;33m(\u001b[0m\u001b[0myear\u001b[0m\u001b[1;33m)\u001b[0m\u001b[1;33m:\u001b[0m\u001b[1;33m\u001b[0m\u001b[1;33m\u001b[0m\u001b[0m\n\u001b[0;32m      4\u001b[0m     \u001b[1;32mif\u001b[0m \u001b[0myear\u001b[0m \u001b[1;33m%\u001b[0m \u001b[1;36m400\u001b[0m\u001b[1;33m:\u001b[0m\u001b[1;33m\u001b[0m\u001b[1;33m\u001b[0m\u001b[0m\n\u001b[0;32m      5\u001b[0m         \u001b[1;32mreturn\u001b[0m \u001b[1;32mTrue\u001b[0m\u001b[1;33m\u001b[0m\u001b[1;33m\u001b[0m\u001b[0m\n",
      "\u001b[1;32m~\\anaconda3\\lib\\site-packages\\ipykernel\\kernelbase.py\u001b[0m in \u001b[0;36mraw_input\u001b[1;34m(self, prompt)\u001b[0m\n\u001b[0;32m   1004\u001b[0m                 \u001b[1;34m\"raw_input was called, but this frontend does not support input requests.\"\u001b[0m\u001b[1;33m\u001b[0m\u001b[1;33m\u001b[0m\u001b[0m\n\u001b[0;32m   1005\u001b[0m             )\n\u001b[1;32m-> 1006\u001b[1;33m         return self._input_request(\n\u001b[0m\u001b[0;32m   1007\u001b[0m             \u001b[0mstr\u001b[0m\u001b[1;33m(\u001b[0m\u001b[0mprompt\u001b[0m\u001b[1;33m)\u001b[0m\u001b[1;33m,\u001b[0m\u001b[1;33m\u001b[0m\u001b[1;33m\u001b[0m\u001b[0m\n\u001b[0;32m   1008\u001b[0m             \u001b[0mself\u001b[0m\u001b[1;33m.\u001b[0m\u001b[0m_parent_ident\u001b[0m\u001b[1;33m[\u001b[0m\u001b[1;34m\"shell\"\u001b[0m\u001b[1;33m]\u001b[0m\u001b[1;33m,\u001b[0m\u001b[1;33m\u001b[0m\u001b[1;33m\u001b[0m\u001b[0m\n",
      "\u001b[1;32m~\\anaconda3\\lib\\site-packages\\ipykernel\\kernelbase.py\u001b[0m in \u001b[0;36m_input_request\u001b[1;34m(self, prompt, ident, parent, password)\u001b[0m\n\u001b[0;32m   1049\u001b[0m             \u001b[1;32mexcept\u001b[0m \u001b[0mKeyboardInterrupt\u001b[0m\u001b[1;33m:\u001b[0m\u001b[1;33m\u001b[0m\u001b[1;33m\u001b[0m\u001b[0m\n\u001b[0;32m   1050\u001b[0m                 \u001b[1;31m# re-raise KeyboardInterrupt, to truncate traceback\u001b[0m\u001b[1;33m\u001b[0m\u001b[1;33m\u001b[0m\u001b[0m\n\u001b[1;32m-> 1051\u001b[1;33m                 \u001b[1;32mraise\u001b[0m \u001b[0mKeyboardInterrupt\u001b[0m\u001b[1;33m(\u001b[0m\u001b[1;34m\"Interrupted by user\"\u001b[0m\u001b[1;33m)\u001b[0m \u001b[1;32mfrom\u001b[0m \u001b[1;32mNone\u001b[0m\u001b[1;33m\u001b[0m\u001b[1;33m\u001b[0m\u001b[0m\n\u001b[0m\u001b[0;32m   1052\u001b[0m             \u001b[1;32mexcept\u001b[0m \u001b[0mException\u001b[0m\u001b[1;33m:\u001b[0m\u001b[1;33m\u001b[0m\u001b[1;33m\u001b[0m\u001b[0m\n\u001b[0;32m   1053\u001b[0m                 \u001b[0mself\u001b[0m\u001b[1;33m.\u001b[0m\u001b[0mlog\u001b[0m\u001b[1;33m.\u001b[0m\u001b[0mwarning\u001b[0m\u001b[1;33m(\u001b[0m\u001b[1;34m\"Invalid Message:\"\u001b[0m\u001b[1;33m,\u001b[0m \u001b[0mexc_info\u001b[0m\u001b[1;33m=\u001b[0m\u001b[1;32mTrue\u001b[0m\u001b[1;33m)\u001b[0m\u001b[1;33m\u001b[0m\u001b[1;33m\u001b[0m\u001b[0m\n",
      "\u001b[1;31mKeyboardInterrupt\u001b[0m: Interrupted by user"
     ]
    }
   ],
   "source": [
    "year = int(input())\n",
    "\n",
    "def leap_year(year):\n",
    "    if year % 400:\n",
    "        return True\n",
    "    "
   ]
  },
  {
   "cell_type": "markdown",
   "id": "1a920616",
   "metadata": {},
   "source": [
    "year=int(input())\n",
    "if not year%400:\n",
    "  print(f\"{year} is a leap year\")\n",
    "elif not year%100:\n",
    "  print(f\"{year} is not a leap year\")\n",
    "elif not year%4:\n",
    "  print(f\"{year} is a leap year\")\n",
    "else:\n",
    "  print(f\"{year} is not a leap year\")"
   ]
  },
  {
   "cell_type": "code",
   "execution_count": 3,
   "id": "938fa904",
   "metadata": {},
   "outputs": [],
   "source": [
    "def leap_year(year):\n",
    "    if not year%400:\n",
    "      return True\n",
    "    elif not year%100:\n",
    "      return False\n",
    "    elif not year%4:\n",
    "      return True\n",
    "    else:\n",
    "      return False\n",
    "    "
   ]
  },
  {
   "cell_type": "code",
   "execution_count": 7,
   "id": "d8f6846c",
   "metadata": {},
   "outputs": [
    {
     "data": {
      "text/plain": [
       "True"
      ]
     },
     "execution_count": 7,
     "metadata": {},
     "output_type": "execute_result"
    }
   ],
   "source": [
    "leap_year(2400)"
   ]
  },
  {
   "cell_type": "markdown",
   "id": "be08e584",
   "metadata": {},
   "source": [
    "5.\tWrite a function that returns all the unique substrings of a string passed to it. For example, if you use the string ‘abc’, then it will return [‘a’,’ab’,’abc’,’b’,’bc’,’c’]"
   ]
  },
  {
   "cell_type": "code",
   "execution_count": 32,
   "id": "d3304d63",
   "metadata": {},
   "outputs": [
    {
     "name": "stdout",
     "output_type": "stream",
     "text": [
      "The original string is : abc\n",
      "All substrings of string are : ['a', 'ab', 'abc', 'b', 'bc', 'c']\n"
     ]
    }
   ],
   "source": [
    "test_str = \"abc\"\n",
    "  \n",
    "\n",
    "print(\"The original string is : \" + str(test_str))\n",
    "  \n",
    "# Get all substrings of string\n",
    "# Using list comprehension + string slicing\n",
    "res = [test_str[i: j] for i in range(len(test_str))\n",
    "          for j in range(i + 1, len(test_str) + 1)]\n",
    "  \n",
    "# printing result \n",
    "print(\"All substrings of string are : \" + str(res))"
   ]
  },
  {
   "cell_type": "code",
   "execution_count": 44,
   "id": "e7629818",
   "metadata": {},
   "outputs": [],
   "source": [
    "def sub_string(string):\n",
    "\n",
    "    list1 = [string[i: j] for i in range(len(string))\n",
    "              for j in range(i + 1, len(string) + 1)]\n",
    "    return(list1)\n"
   ]
  },
  {
   "cell_type": "code",
   "execution_count": 45,
   "id": "5d39ec34",
   "metadata": {},
   "outputs": [
    {
     "data": {
      "text/plain": [
       "['a', 'ab', 'abc', 'b', 'bc', 'c']"
      ]
     },
     "execution_count": 45,
     "metadata": {},
     "output_type": "execute_result"
    }
   ],
   "source": [
    "sub_string(\"abc\")"
   ]
  },
  {
   "cell_type": "code",
   "execution_count": null,
   "id": "7ce00949",
   "metadata": {},
   "outputs": [],
   "source": []
  },
  {
   "cell_type": "code",
   "execution_count": null,
   "id": "35b0e0ea",
   "metadata": {},
   "outputs": [],
   "source": []
  },
  {
   "cell_type": "code",
   "execution_count": null,
   "id": "56716a0a",
   "metadata": {},
   "outputs": [],
   "source": []
  },
  {
   "cell_type": "code",
   "execution_count": 29,
   "id": "549d209a",
   "metadata": {},
   "outputs": [],
   "source": [
    "def sub_string(abc):\n",
    "    list1 = []\n",
    "    for i in range(0,len(abc)+1): \n",
    "        list1.append(abc[i])\n",
    "        \n",
    "    \n",
    "    \n",
    "    \n",
    "def count_substring(string, sub_string):\n",
    "  sum=0\n",
    "  for i in range(0,len(string)+1):\n",
    "    if string[i:(i+len(sub_string))]==sub_string:\n",
    "      sum+=1 \n",
    "  return sum"
   ]
  },
  {
   "cell_type": "code",
   "execution_count": null,
   "id": "56c473bc",
   "metadata": {},
   "outputs": [],
   "source": []
  },
  {
   "cell_type": "code",
   "execution_count": 30,
   "id": "7f2b58d8",
   "metadata": {},
   "outputs": [
    {
     "data": {
      "text/plain": [
       "0"
      ]
     },
     "execution_count": 30,
     "metadata": {},
     "output_type": "execute_result"
    }
   ],
   "source": [
    "sub_string(\"deneme\")"
   ]
  },
  {
   "cell_type": "code",
   "execution_count": 18,
   "id": "5d150901",
   "metadata": {},
   "outputs": [
    {
     "data": {
      "text/plain": [
       "3"
      ]
     },
     "execution_count": 18,
     "metadata": {},
     "output_type": "execute_result"
    }
   ],
   "source": [
    "len(\"abc\")"
   ]
  },
  {
   "cell_type": "code",
   "execution_count": null,
   "id": "bb846bb8",
   "metadata": {},
   "outputs": [],
   "source": [
    "def power_set(s):\n",
    "  result = []\n",
    "  for i in s:\n",
    "    result += [j.union({i}) for j in result]\n",
    "    result.append({i}) \n",
    "  result.append({})\n",
    "  return sorted(result, key = len)\n",
    "power_set([1,2,3])"
   ]
  },
  {
   "cell_type": "code",
   "execution_count": null,
   "id": "f00e779b",
   "metadata": {},
   "outputs": [],
   "source": []
  },
  {
   "cell_type": "code",
   "execution_count": 46,
   "id": "4a198f53",
   "metadata": {},
   "outputs": [
    {
     "name": "stdout",
     "output_type": "stream",
     "text": [
      "<__main__.Calisanlar object at 0x0000026FFA136B50>\n"
     ]
    }
   ],
   "source": [
    "class Calisanlar():\n",
    "    def __init__(self, isim, soyisim, maas):\n",
    "        self.isim    = isim\n",
    "        self.soyisim = soyisim\n",
    "        self.maas    = maas\n",
    "\n",
    "calisan_1 = Calisanlar(\"Ömer\", \"DEMİRARSLAN\", 6500)\n",
    "\n",
    "print(calisan_1)"
   ]
  },
  {
   "cell_type": "code",
   "execution_count": null,
   "id": "bc2b5c10",
   "metadata": {},
   "outputs": [],
   "source": []
  },
  {
   "cell_type": "code",
   "execution_count": null,
   "id": "403a824f",
   "metadata": {},
   "outputs": [],
   "source": []
  },
  {
   "cell_type": "code",
   "execution_count": 95,
   "id": "4df34496",
   "metadata": {},
   "outputs": [],
   "source": [
    "class BankAccount:\n",
    "    \n",
    "    def __init__(self, owner, account_number, account_type, balance=0):\n",
    "        self.owner = owner    \n",
    "        self.account_number = account_number\n",
    "        self.account_type = account_type\n",
    "        self.balance = balance\n",
    "    \n",
    "    def deposit(self, amount):\n",
    "        self.balance += amount\n",
    "        \n",
    "    def withdraw(self, amount):\n",
    "        self.balance -= amount\n",
    "    \n",
    "    def acc_type(self):\n",
    "        return self.account_type\n",
    "    \n",
    "    \n",
    "    def __str__(self):\n",
    "      return f\"\"\"\n",
    "      Bank Account:\n",
    "          Account Owner: {self.owner}\n",
    "          Account Number: {self.account_number}\n",
    "          Account Type: {self.account_type}\n",
    "          Current Balance: {self.balance}\n",
    "      \"\"\"  \n",
    "\n",
    "  \n",
    "    def __repr__(self):\n",
    "        return f\"BankAccount(owner='{self._owner}', \" \\\n",
    "               f\"account_number={self._account_number}, \" \\\n",
    "               f\"account_type = {self.account_type}, \" \\\n",
    "               f\"balance={self._balance})\""
   ]
  },
  {
   "cell_type": "code",
   "execution_count": 92,
   "id": "debd26ce",
   "metadata": {},
   "outputs": [],
   "source": [
    "class Individual(BankAccount):\n",
    "    def __init__(self, owner, account_number, account_type=\"Individual\", balance=0):\n",
    "        self.owner = owner    \n",
    "        self.account_number = account_number\n",
    "        self.account_type = account_type\n",
    "        self.balance = balance\n"
   ]
  },
  {
   "cell_type": "code",
   "execution_count": 93,
   "id": "ef63eafd",
   "metadata": {},
   "outputs": [],
   "source": [
    "class Company(BankAccount):\n",
    "    def __init__(self, owner, account_number, account_type=\"Company\", balance=0):\n",
    "        self.owner = owner    \n",
    "        self.account_number = account_number\n",
    "        self.account_type = account_type\n",
    "        self.balance = balance"
   ]
  },
  {
   "cell_type": "code",
   "execution_count": 96,
   "id": "9e122501",
   "metadata": {},
   "outputs": [
    {
     "name": "stdout",
     "output_type": "stream",
     "text": [
      "\n",
      "      Bank Account:\n",
      "          Account Owner: Michal\n",
      "          Account Number: 123\n",
      "          Account Type: Individual\n",
      "          Current Balance: 0\n",
      "      \n"
     ]
    }
   ],
   "source": [
    "my_account = BankAccount(\"Michal\",123,\"Individual\")\n",
    "print(my_account)\n"
   ]
  },
  {
   "cell_type": "code",
   "execution_count": null,
   "id": "21c3477c",
   "metadata": {},
   "outputs": [],
   "source": []
  },
  {
   "cell_type": "code",
   "execution_count": 152,
   "id": "5fbe86d1",
   "metadata": {},
   "outputs": [],
   "source": [
    "dict_ = {'li1':[1,2,3,4], 'li2':['a','b', 'c']}"
   ]
  },
  {
   "cell_type": "code",
   "execution_count": 153,
   "id": "891c6018",
   "metadata": {},
   "outputs": [],
   "source": [
    "dict2 = dict_"
   ]
  },
  {
   "cell_type": "code",
   "execution_count": 148,
   "id": "16f46465",
   "metadata": {},
   "outputs": [
    {
     "ename": "TypeError",
     "evalue": "'type' object does not support item assignment",
     "output_type": "error",
     "traceback": [
      "\u001b[1;31m---------------------------------------------------------------------------\u001b[0m",
      "\u001b[1;31mTypeError\u001b[0m                                 Traceback (most recent call last)",
      "\u001b[1;32m~\\AppData\\Local\\Temp/ipykernel_10924/1707366818.py\u001b[0m in \u001b[0;36m<module>\u001b[1;34m\u001b[0m\n\u001b[1;32m----> 1\u001b[1;33m \u001b[0mdict\u001b[0m\u001b[1;33m[\u001b[0m\u001b[1;34m'li1'\u001b[0m\u001b[1;33m]\u001b[0m \u001b[1;33m=\u001b[0m \u001b[1;33m[\u001b[0m\u001b[1;36m4\u001b[0m\u001b[1;33m,\u001b[0m\u001b[1;36m5\u001b[0m\u001b[1;33m,\u001b[0m\u001b[1;36m6\u001b[0m\u001b[1;33m,\u001b[0m\u001b[1;36m7\u001b[0m\u001b[1;33m]\u001b[0m\u001b[1;33m\u001b[0m\u001b[1;33m\u001b[0m\u001b[0m\n\u001b[0m",
      "\u001b[1;31mTypeError\u001b[0m: 'type' object does not support item assignment"
     ]
    }
   ],
   "source": [
    "dict['li1'] = [4,5,6,7]"
   ]
  },
  {
   "cell_type": "code",
   "execution_count": 155,
   "id": "e3109b16",
   "metadata": {},
   "outputs": [],
   "source": [
    "dict_['li2'][0]='QWERTY'"
   ]
  },
  {
   "cell_type": "code",
   "execution_count": 156,
   "id": "8ecf50e5",
   "metadata": {},
   "outputs": [
    {
     "data": {
      "text/plain": [
       "{'li1': [1, 2, 3, 4], 'li2': ['QWERTY', 'b', 'c']}"
      ]
     },
     "execution_count": 156,
     "metadata": {},
     "output_type": "execute_result"
    }
   ],
   "source": [
    "dict_"
   ]
  },
  {
   "cell_type": "code",
   "execution_count": 157,
   "id": "a24c3fb3",
   "metadata": {},
   "outputs": [
    {
     "data": {
      "text/plain": [
       "{'li1': [1, 2, 3, 4], 'li2': ['QWERTY', 'b', 'c']}"
      ]
     },
     "execution_count": 157,
     "metadata": {},
     "output_type": "execute_result"
    }
   ],
   "source": [
    "dict2"
   ]
  },
  {
   "cell_type": "code",
   "execution_count": null,
   "id": "dc82e13b",
   "metadata": {},
   "outputs": [],
   "source": []
  },
  {
   "cell_type": "code",
   "execution_count": 129,
   "id": "1b92f541",
   "metadata": {},
   "outputs": [],
   "source": [
    "import copy"
   ]
  },
  {
   "cell_type": "code",
   "execution_count": 136,
   "id": "7b8ef972",
   "metadata": {},
   "outputs": [],
   "source": [
    "a = [1,2,4]"
   ]
  },
  {
   "cell_type": "code",
   "execution_count": 137,
   "id": "59014c27",
   "metadata": {},
   "outputs": [
    {
     "ename": "TypeError",
     "evalue": "'module' object is not callable",
     "output_type": "error",
     "traceback": [
      "\u001b[1;31m---------------------------------------------------------------------------\u001b[0m",
      "\u001b[1;31mTypeError\u001b[0m                                 Traceback (most recent call last)",
      "\u001b[1;32m~\\AppData\\Local\\Temp/ipykernel_10924/1418000326.py\u001b[0m in \u001b[0;36m<module>\u001b[1;34m\u001b[0m\n\u001b[1;32m----> 1\u001b[1;33m \u001b[0mb\u001b[0m \u001b[1;33m=\u001b[0m \u001b[0mcopy\u001b[0m\u001b[1;33m(\u001b[0m\u001b[0ma\u001b[0m\u001b[1;33m)\u001b[0m\u001b[1;33m\u001b[0m\u001b[1;33m\u001b[0m\u001b[0m\n\u001b[0m",
      "\u001b[1;31mTypeError\u001b[0m: 'module' object is not callable"
     ]
    }
   ],
   "source": [
    "b = copy(a)"
   ]
  },
  {
   "cell_type": "code",
   "execution_count": 126,
   "id": "18cfa92f",
   "metadata": {},
   "outputs": [],
   "source": [
    "a = (1,5)"
   ]
  },
  {
   "cell_type": "code",
   "execution_count": 127,
   "id": "24e1ea9b",
   "metadata": {},
   "outputs": [
    {
     "data": {
      "text/plain": [
       "[1, 2, 4]"
      ]
     },
     "execution_count": 127,
     "metadata": {},
     "output_type": "execute_result"
    }
   ],
   "source": [
    "b"
   ]
  },
  {
   "cell_type": "code",
   "execution_count": 174,
   "id": "0e40196f",
   "metadata": {},
   "outputs": [],
   "source": [
    "from copy import copy, deepcopy"
   ]
  },
  {
   "cell_type": "code",
   "execution_count": 176,
   "id": "cc16e4e7",
   "metadata": {},
   "outputs": [],
   "source": [
    "l1 = [120, 210, [11,33], 240] # for shallow copy\n",
    "l1_assign = l1\n",
    "l2 = l1.copy()\n",
    "# for deepcopy\n"
   ]
  },
  {
   "cell_type": "code",
   "execution_count": 177,
   "id": "f0319a6b",
   "metadata": {},
   "outputs": [
    {
     "data": {
      "text/plain": [
       "[120, 210, [11, 33], 240]"
      ]
     },
     "execution_count": 177,
     "metadata": {},
     "output_type": "execute_result"
    }
   ],
   "source": [
    "l2"
   ]
  },
  {
   "cell_type": "code",
   "execution_count": 178,
   "id": "111f2f73",
   "metadata": {},
   "outputs": [],
   "source": [
    "l1[1] = [55]"
   ]
  },
  {
   "cell_type": "code",
   "execution_count": 179,
   "id": "5ba60c81",
   "metadata": {},
   "outputs": [
    {
     "data": {
      "text/plain": [
       "[120, [55], [11, 33], 240]"
      ]
     },
     "execution_count": 179,
     "metadata": {},
     "output_type": "execute_result"
    }
   ],
   "source": [
    "l1"
   ]
  },
  {
   "cell_type": "code",
   "execution_count": 180,
   "id": "1facaabe",
   "metadata": {},
   "outputs": [
    {
     "data": {
      "text/plain": [
       "[120, 210, [11, 33], 240]"
      ]
     },
     "execution_count": 180,
     "metadata": {},
     "output_type": "execute_result"
    }
   ],
   "source": [
    "l2"
   ]
  },
  {
   "cell_type": "code",
   "execution_count": 181,
   "id": "03eb799d",
   "metadata": {},
   "outputs": [
    {
     "data": {
      "text/plain": [
       "[120, 210, [11, 33], 240]"
      ]
     },
     "execution_count": 181,
     "metadata": {},
     "output_type": "execute_result"
    }
   ],
   "source": [
    "l3"
   ]
  },
  {
   "cell_type": "code",
   "execution_count": 186,
   "id": "aa7f916b",
   "metadata": {},
   "outputs": [
    {
     "name": "stdout",
     "output_type": "stream",
     "text": [
      "[0, 100, [200, 3]]\n",
      "assign: [0, 100, [200, 3]]\n",
      "copy [0, 1, [200, 3]]\n",
      "deepcopy [0, 1, [2, 3]]\n"
     ]
    }
   ],
   "source": [
    "import copy\n",
    "\n",
    "l = [0, 1, [2, 3]]\n",
    "l_assign = l                   # assignment\n",
    "l_copy = l.copy()              # shallow copy\n",
    "l_deepcopy = copy.deepcopy(l)  # deep copy\n",
    "\n",
    "l[1] = 100\n",
    "l[2][0] = 200\n",
    "print(l)\n",
    "# [0, 100, [200, 3]]\n",
    "\n",
    "print(\"assign:\",l_assign)\n",
    "# [0, 100, [200, 3]]\n",
    "\n",
    "print(\"copy\", l_copy)\n",
    "# [0, 1, [200, 3]]\n",
    "\n",
    "print(\"deepcopy\",l_deepcopy)\n",
    "# [0, 1, [2, 3]]"
   ]
  },
  {
   "cell_type": "code",
   "execution_count": null,
   "id": "5e7be2af",
   "metadata": {},
   "outputs": [],
   "source": []
  },
  {
   "cell_type": "code",
   "execution_count": 210,
   "id": "d43c386c",
   "metadata": {},
   "outputs": [],
   "source": []
  },
  {
   "cell_type": "code",
   "execution_count": 216,
   "id": "e9877369",
   "metadata": {},
   "outputs": [
    {
     "name": "stdout",
     "output_type": "stream",
     "text": [
      "dict_: {'li1': [1, 2, 3, 4], 'li2': ['a', 'b', 'c']}\n",
      "assign: {'li1': 'ASDFG', 'li2': ['QWERTY', 'b', 'c']}\n",
      "copy: {'li1': [1, 2, 3, 4], 'li2': ['QWERTY', 'b', 'c']}\n",
      "deepcopy: {'li1': [1, 2, 3, 4], 'li2': ['a', 'b', 'c']}\n"
     ]
    }
   ],
   "source": [
    "dict_ = {'li1':[1,2,3,4], 'li2':['a','b', 'c']}\n",
    "dict_assign = dict_                   # assignment\n",
    "dict_copy = dict_.copy()              # shallow copy\n",
    "dict_deepcopy = copy.deepcopy(dict_)  # deep copy\n",
    "print('dict_:',dict_)\n",
    "dict_['li1']='ASDFG' \n",
    "dict_['li2'][0]='QWERTY'\n",
    "\n",
    "\n",
    "print(\"assign:\",dict_assign)\n",
    "print(\"copy:\", dict_copy)\n",
    "print(\"deepcopy:\",dict_deepcopy)\n"
   ]
  },
  {
   "cell_type": "code",
   "execution_count": 219,
   "id": "f6639718",
   "metadata": {},
   "outputs": [],
   "source": [
    "Clubs = ['Besiktas', 'Arsenal', 'Lazio', 'Dortmund']"
   ]
  },
  {
   "cell_type": "code",
   "execution_count": 222,
   "id": "4a7d6599",
   "metadata": {},
   "outputs": [
    {
     "name": "stdout",
     "output_type": "stream",
     "text": [
      "Besiktas\n",
      "Arsenal\n",
      "Lazio\n",
      "This this the Italian Club, Lazio\n",
      "break statement is executed\n"
     ]
    }
   ],
   "source": [
    "for i in range(len(Clubs)):\n",
    "\tprint(Clubs[i])\n",
    "\tif Clubs[i] == 'Lazio':\n",
    "\t\tprint('This this the Italian Club, Lazio')\n",
    "\t\tbreak\n",
    "print('break statement is executed')\n"
   ]
  },
  {
   "cell_type": "code",
   "execution_count": 227,
   "id": "a5c94fc4",
   "metadata": {},
   "outputs": [
    {
     "name": "stdout",
     "output_type": "stream",
     "text": [
      "Besiktas\n",
      "Arsenal\n",
      "Dortmund\n"
     ]
    }
   ],
   "source": [
    "for i in range(len(Clubs)):\n",
    "    if Clubs[i] == 'Lazio':\n",
    "        continue\n",
    "    print(Clubs[i])\n"
   ]
  },
  {
   "cell_type": "code",
   "execution_count": null,
   "id": "d97ba69b",
   "metadata": {},
   "outputs": [],
   "source": []
  },
  {
   "cell_type": "code",
   "execution_count": null,
   "id": "cd23be51",
   "metadata": {},
   "outputs": [],
   "source": []
  },
  {
   "cell_type": "code",
   "execution_count": 306,
   "id": "c9e4eb55",
   "metadata": {},
   "outputs": [],
   "source": [
    "def sent_split(*args):\n",
    "    listem = str(args).split()\n",
    "    for i in range(len(listem)):\n",
    "        print(listem[i])\n",
    "    "
   ]
  },
  {
   "cell_type": "code",
   "execution_count": 307,
   "id": "cb922247",
   "metadata": {},
   "outputs": [
    {
     "name": "stdout",
     "output_type": "stream",
     "text": [
      "('I\n",
      "am\n",
      "a\n",
      "Future\n",
      "Leader',)\n"
     ]
    }
   ],
   "source": [
    "\n",
    "sent_split(\"I am a Future Leader\")"
   ]
  },
  {
   "cell_type": "code",
   "execution_count": 235,
   "id": "304d94a6",
   "metadata": {},
   "outputs": [
    {
     "data": {
      "text/plain": [
       "'am'"
      ]
     },
     "execution_count": 235,
     "metadata": {},
     "output_type": "execute_result"
    }
   ],
   "source": [
    "sentence = \"I am a Future Leader\"\n",
    "listem = sentence.split()\n",
    "listem[1]\n"
   ]
  },
  {
   "cell_type": "code",
   "execution_count": null,
   "id": "4bbd3266",
   "metadata": {},
   "outputs": [],
   "source": [
    "d"
   ]
  },
  {
   "cell_type": "code",
   "execution_count": null,
   "id": "31f43e95",
   "metadata": {},
   "outputs": [],
   "source": []
  },
  {
   "cell_type": "markdown",
   "id": "20ae7501",
   "metadata": {},
   "source": [
    "9.\tWhat does **kwargs do in python and how does it differ from *args? Given the following: APPL=318.85, AMZN=2047.67, GOOGL=1445.41, write a function that uses **kwargs to return:\n",
    "APPL is currently 318.85/share\n",
    "AMZN is currently 2047.67/share\n",
    "GOOGL is currently 1445.41/share\n"
   ]
  },
  {
   "cell_type": "code",
   "execution_count": 283,
   "id": "ab2b212a",
   "metadata": {},
   "outputs": [
    {
     "name": "stdout",
     "output_type": "stream",
     "text": [
      "1\n",
      "2\n",
      "3\n",
      "args qweqe\n",
      "anahtar: degerDegerimiz: kwargs\n"
     ]
    }
   ],
   "source": [
    "def fonksiyon(*args,**kwargs):\n",
    "    for i in args:\n",
    "        print(i)\n",
    "    for k,v in kwargs.items():\n",
    "        print('anahtar: ',k,'Degerimiz: ',v,sep='')\n",
    " \n",
    "fonksiyon(1,2,3,'args qweqe' , deger = 'kwargs')"
   ]
  },
  {
   "cell_type": "code",
   "execution_count": 287,
   "id": "aff8529b",
   "metadata": {},
   "outputs": [
    {
     "name": "stdout",
     "output_type": "stream",
     "text": [
      "APPL is currently 318.85/share\n",
      "AMZN is currently 2047.67/share\n",
      "GOOGL is currently 1445.41/share\n"
     ]
    }
   ],
   "source": [
    "def stock_func(**kwargs):\n",
    "    for k,v in kwargs.items():\n",
    "        print(k,' is currently ',v,'/share',sep='')\n",
    " \n",
    "stock_func(APPL=318.85, AMZN=2047.67, GOOGL=1445.41)"
   ]
  },
  {
   "cell_type": "code",
   "execution_count": null,
   "id": "00e2afc6",
   "metadata": {},
   "outputs": [],
   "source": []
  }
 ],
 "metadata": {
  "kernelspec": {
   "display_name": "Python 3 (ipykernel)",
   "language": "python",
   "name": "python3"
  },
  "language_info": {
   "codemirror_mode": {
    "name": "ipython",
    "version": 3
   },
   "file_extension": ".py",
   "mimetype": "text/x-python",
   "name": "python",
   "nbconvert_exporter": "python",
   "pygments_lexer": "ipython3",
   "version": "3.9.7"
  }
 },
 "nbformat": 4,
 "nbformat_minor": 5
}
